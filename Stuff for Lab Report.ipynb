{
 "cells": [
  {
   "cell_type": "code",
   "execution_count": 1,
   "metadata": {},
   "outputs": [],
   "source": [
    "import Integrate_me as IM"
   ]
  },
  {
   "cell_type": "markdown",
   "metadata": {},
   "source": [
    "### Functions for testing"
   ]
  },
  {
   "cell_type": "code",
   "execution_count": 2,
   "metadata": {},
   "outputs": [],
   "source": [
    "def f1(x):\n",
    "    return x\n",
    "\n",
    "def f2(x):\n",
    "    return x**2\n",
    "\n",
    "def f3(x):\n",
    "    return x**3\n",
    "\n",
    "def f4(x, y):\n",
    "    return x+y"
   ]
  },
  {
   "cell_type": "markdown",
   "metadata": {},
   "source": [
    "### Integrator Classes "
   ]
  },
  {
   "cell_type": "code",
   "execution_count": 3,
   "metadata": {},
   "outputs": [],
   "source": [
    "F1 = IM.Integrator(f1) #50\n",
    "F2 = IM.Integrator(f2) #1000/3\n",
    "F3 = IM.Integrator(f3) #2500\n",
    "F4 = IM.Integrator(f4) #?"
   ]
  },
  {
   "cell_type": "markdown",
   "metadata": {},
   "source": [
    "# Midpoint Rule \n",
    "\n",
    "- Uncertainty is as a function of sampled points\n",
    "- Demonstrate functions that cant be analytically integrated\n",
    "- Demonstrate convergence and perform timing tests\n",
    "\n",
    "Implement a class that performs integration using the composite midpoint rule in one dimension. Check what the uncertainty is as a function of sampled points n for a number of functions that can be analytically integrated. Use the class to demonstrate integrating some functions which cannot be analytically integrated. Demonstrate convergence and perform timing tests.\n"
   ]
  },
  {
   "cell_type": "code",
   "execution_count": null,
   "metadata": {},
   "outputs": [],
   "source": [
    "F1.plotmeval(0, 10, 0, realvalue=50)\n",
    "F1.plotme(0, 10, 0, realvalue=50)"
   ]
  },
  {
   "cell_type": "code",
   "execution_count": null,
   "metadata": {},
   "outputs": [],
   "source": [
    "F3.plotmeval(0, 10, 0, realvalue=2500)\n",
    "F3.plotme(0, 10, 0, realvalue=2500)"
   ]
  },
  {
   "cell_type": "markdown",
   "metadata": {},
   "source": [
    "# Trapezium Rule\n",
    "- Uncertainty is as a function of sampled points\n",
    "- Demonstrate functions that cant be analytically integrated\n",
    "- Demonstrate convergence and perform timing tests"
   ]
  },
  {
   "cell_type": "code",
   "execution_count": null,
   "metadata": {},
   "outputs": [],
   "source": [
    "F1.plotmeval(0, 10, 1, realvalue=50)\n",
    "F1.plotme(0, 10, 1, realvalue=50)"
   ]
  },
  {
   "cell_type": "code",
   "execution_count": null,
   "metadata": {},
   "outputs": [],
   "source": [
    "F3.plotmeval(0, 10, 1, realvalue=2500)\n",
    "F3.plotme(0, 10, 1, realvalue=2500)"
   ]
  },
  {
   "cell_type": "markdown",
   "metadata": {},
   "source": [
    "# Simpsons Rule\n",
    "- Uncertainty is as a function of sampled points\n",
    "- Demonstrate functions that cant be analytically integrated\n",
    "- Demonstrate convergence and perform timing tests"
   ]
  },
  {
   "cell_type": "code",
   "execution_count": null,
   "metadata": {},
   "outputs": [],
   "source": [
    "F1.plotmeval(0, 10, 2, realvalue=50)\n",
    "F1.plotme(0, 10, 2, realvalue=50)"
   ]
  },
  {
   "cell_type": "code",
   "execution_count": null,
   "metadata": {},
   "outputs": [],
   "source": [
    "F3.plotmeval(0, 10, 2, realvalue=2500, Nmax = 5000)\n",
    "F3.plotme(0, 10, 2, realvalue=2500)"
   ]
  },
  {
   "cell_type": "markdown",
   "metadata": {},
   "source": [
    "# AdaptiveIntegration Rule\n",
    "- Uncertainty is as a function of sampled points\n",
    "- Demonstrate functions that cant be analytically integrated\n",
    "- Demonstrate convergence and perform timing tests"
   ]
  },
  {
   "cell_type": "code",
   "execution_count": null,
   "metadata": {},
   "outputs": [],
   "source": [
    "def retanalysisadapt(C, a, b, Taumin10to, intmethod):\n",
    "    '''\n",
    "    Performs time, convergence, and accuracy test as a function of intervals used\n",
    "    Uses the Newton-Cotes integration method\n",
    "\n",
    "    Attributes\n",
    "    ----------\n",
    "    a : float \n",
    "        lower limit of function\n",
    "    b : float\n",
    "        upper limit of function\n",
    "    Nmax : int\n",
    "        Number of maximum intervals for the function to calculate\n",
    "    Ndiffs: int\n",
    "        Differences between successive intervals tested. eg. if Nmax = 5 and Ndiffs = 2, then those tested \n",
    "        are N = 1, 3, 5\n",
    "    '''\n",
    "    import time\n",
    "    start_time = time.time()\n",
    "\n",
    "    nPoints = [1000]\n",
    "    intvalue = [C.AdaptInt(a, b, nPoints[0], intmethod)]\n",
    "    time_taken = [time.time()-start_time]\n",
    "\n",
    "    for i in range(int(3-Taumin10to)):\n",
    "        npoint = 1000/(10**i)\n",
    "\n",
    "        start_time = time.time()\n",
    "        tintvalue = C.AdaptInt(a, b, npoint, intmethod)\n",
    "        timepast = time.time() - start_time\n",
    "\n",
    "        nPoints.append(npoint)\n",
    "        intvalue.append(tintvalue)\n",
    "        time_taken.append(timepast)\n",
    "\n",
    "    return [nPoints, intvalue, time_taken]"
   ]
  },
  {
   "cell_type": "code",
   "execution_count": null,
   "metadata": {},
   "outputs": [],
   "source": [
    "def plotmeadapt(C, a, b, intmethod, Taumin10to = 500, realvalue = None):\n",
    "    '''\n",
    "    Performs time, convergence, and accuracy test as a function of intervals used\n",
    "    Uses the Newton-Cotes integration method\n",
    "    Plots results in two or three separate figures, depending on if realvalue was specified.\n",
    "\n",
    "    Attributes\n",
    "    ----------\n",
    "    a : float \n",
    "        lower limit of function\n",
    "    b : float\n",
    "        upper limit of function\n",
    "    intmethod : 0, 1, 2\n",
    "        Method of choice for integration, per the NCInt method. \n",
    "    Ndiffs: int\n",
    "        Differences between successive intervals tested. eg. if Nmax = 5 and Ndiffs = 2, then those tested \n",
    "        are N = 1, 3, 5\n",
    "    realvalue: float\n",
    "        The real value of the integral. Used to compare the numerical integration with the analytical one.\n",
    "    '''\n",
    "    import matplotlib.pyplot as plt \n",
    "\n",
    "    RetAn = retanalysisadapt(C, a, b, Taumin10to, intmethod)\n",
    "\n",
    "    plt.figure(0)\n",
    "    plt.title('Value of Integral as a function of sample points based on tolerance')\n",
    "    plt.plot(RetAn[0], RetAn[1])\n",
    "    plt.show()\n",
    "\n",
    "    if realvalue != None:\n",
    "        plt.figure(1)\n",
    "        plt.title('Percentage Difference from Actual Value based on tolerance')\n",
    "        RVlst = [(realvalue - i)*100 / realvalue for i in RetAn[1]]\n",
    "        plt.plot(RetAn[0], RVlst)\n",
    "        plt.show()\n",
    "\n",
    "    plt.figure(2)\n",
    "    plt.title('Timing Test')\n",
    "    plt.plot(RetAn[0], RetAn[2])\n",
    "    plt.show()\n",
    "    #return nPoints"
   ]
  },
  {
   "cell_type": "code",
   "execution_count": null,
   "metadata": {},
   "outputs": [],
   "source": [
    "retanalysisadapt(F3, 0, 10, -5, 0)"
   ]
  },
  {
   "cell_type": "code",
   "execution_count": null,
   "metadata": {},
   "outputs": [],
   "source": [
    "plotmeadapt(F3, 0, 10, 0, -5, realvalue= 2500)"
   ]
  },
  {
   "cell_type": "markdown",
   "metadata": {},
   "source": [
    "# MonteCarlo Rule\n",
    "- Uncertainty is as a function of sampled points\n",
    "- Demonstrate functions that cant be analytically integrated\n",
    "- Demonstrate convergence and perform timing tests"
   ]
  },
  {
   "cell_type": "code",
   "execution_count": null,
   "metadata": {},
   "outputs": [],
   "source": [
    "F1.MonteCarlo(0, 10)"
   ]
  },
  {
   "cell_type": "code",
   "execution_count": null,
   "metadata": {},
   "outputs": [],
   "source": [
    "def retanalysismonte(C, a, b, Nmax = 500, Ndiffs = 10):\n",
    "    '''\n",
    "    Performs time, convergence, and accuracy test as a function of intervals used\n",
    "    Uses the Newton-Cotes integration method\n",
    "\n",
    "    Attributes\n",
    "    ----------\n",
    "    a : float \n",
    "        lower limit of function\n",
    "    b : float\n",
    "        upper limit of function\n",
    "    Nmax : int\n",
    "        Number of maximum intervals for the function to calculate\n",
    "    Ndiffs: int\n",
    "        Differences between successive intervals tested. eg. if Nmax = 5 and Ndiffs = 2, then those tested \n",
    "        are N = 1, 3, 5\n",
    "    '''\n",
    "    import time\n",
    "    start_time = time.time()\n",
    "\n",
    "    nPoints = [2]\n",
    "    intvalue = [C.MonteCarlo(a, b, nPoints[0])]\n",
    "    time_taken = [time.time()-start_time]\n",
    "\n",
    "    for i in range(int(Nmax/Ndiffs)):\n",
    "        npoint = (i+1)*Ndiffs\n",
    "\n",
    "        start_time = time.time()\n",
    "        tintvalue = C.MonteCarlo(a, b, npoint)\n",
    "        timepast = time.time() - start_time\n",
    "\n",
    "        nPoints.append(npoint)\n",
    "        intvalue.append(tintvalue)\n",
    "        time_taken.append(timepast)\n",
    "\n",
    "    return [nPoints, intvalue, time_taken]"
   ]
  },
  {
   "cell_type": "code",
   "execution_count": null,
   "metadata": {},
   "outputs": [],
   "source": [
    "def plotmemonte(C, a, b, Nmax = 500, Ndiffs = 10, realvalue = None):\n",
    "    '''\n",
    "    Performs time, convergence, and accuracy test as a function of intervals used\n",
    "    Uses the Newton-Cotes integration method\n",
    "    Plots results in two or three separate figures, depending on if realvalue was specified.\n",
    "\n",
    "    Attributes\n",
    "    ----------\n",
    "    a : float \n",
    "        lower limit of function\n",
    "    b : float\n",
    "        upper limit of function\n",
    "    intmethod : 0, 1, 2\n",
    "        Method of choice for integration, per the NCInt method. \n",
    "    Ndiffs: int\n",
    "        Differences between successive intervals tested. eg. if Nmax = 5 and Ndiffs = 2, then those tested \n",
    "        are N = 1, 3, 5\n",
    "    realvalue: float\n",
    "        The real value of the integral. Used to compare the numerical integration with the analytical one.\n",
    "    '''\n",
    "    import matplotlib.pyplot as plt \n",
    "\n",
    "    RetAn = retanalysismonte(C, a, b, Nmax, Ndiffs)\n",
    "\n",
    "    plt.figure(0)\n",
    "    plt.title('Value of Integral as a function of sample points')\n",
    "    plt.plot(RetAn[0], RetAn[1])\n",
    "    plt.show()\n",
    "\n",
    "    if realvalue != None:\n",
    "        plt.figure(1)\n",
    "        plt.title('Percentage Difference from Actual Value')\n",
    "        RVlst = [(realvalue - i)*100 / realvalue for i in RetAn[1]]\n",
    "        plt.plot(RetAn[0], RVlst)\n",
    "        plt.show()\n",
    "\n",
    "    plt.figure(2)\n",
    "    plt.title('Timing Test')\n",
    "    plt.plot(RetAn[0], RetAn[2])\n",
    "    plt.show()"
   ]
  },
  {
   "cell_type": "code",
   "execution_count": null,
   "metadata": {},
   "outputs": [],
   "source": [
    "plotmemonte(F1, 0, 10, realvalue=50, Nmax = 5000)"
   ]
  },
  {
   "cell_type": "code",
   "execution_count": null,
   "metadata": {},
   "outputs": [],
   "source": [
    "plotmemonte(F3, 0, 10, realvalue=2500, Nmax = 5000)"
   ]
  },
  {
   "cell_type": "markdown",
   "metadata": {},
   "source": [
    "# N dimensions\n",
    "- Uncertainty is as a function of sampled points\n",
    "- Demonstrate functions that cant be analytically integrated\n",
    "- Demonstrate convergence and perform timing tests"
   ]
  },
  {
   "cell_type": "markdown",
   "metadata": {},
   "source": [
    "### simpsons (NC)"
   ]
  },
  {
   "cell_type": "code",
   "execution_count": null,
   "metadata": {},
   "outputs": [],
   "source": [
    "def retanalysisN(C, a, b, Nmax, Ndiffs, intmethod):\n",
    "    '''\n",
    "    Performs time, convergence, and accuracy test as a function of intervals used\n",
    "    Uses the Newton-Cotes integration method\n",
    "\n",
    "    Attributes\n",
    "    ----------\n",
    "    a : float \n",
    "        lower limit of function\n",
    "    b : float\n",
    "        upper limit of function\n",
    "    Nmax : int\n",
    "        Number of maximum intervals for the function to calculate\n",
    "    Ndiffs: int\n",
    "        Differences between successive intervals tested. eg. if Nmax = 5 and Ndiffs = 2, then those tested \n",
    "        are N = 1, 3, 5\n",
    "    '''\n",
    "    import time\n",
    "    start_time = time.time()\n",
    "    \n",
    "    nPoints = [2]\n",
    "    Npoints = [nPoints[0] for i in range(len(a))]\n",
    "    intvalue = [C.NCIntN(a, b, Npoints, intmethod)]\n",
    "    time_taken = [time.time()-start_time]\n",
    "\n",
    "    for i in range(int(Nmax/Ndiffs)):\n",
    "        npoint = (i+1)*Ndiffs\n",
    "\n",
    "        start_time = time.time()\n",
    "        Npoint = [npoint for i in range(len(a))]\n",
    "        tintvalue = C.NCIntN(a, b, Npoint, intmethod)\n",
    "        timepast = time.time() - start_time\n",
    "\n",
    "        nPoints.append(npoint)\n",
    "        intvalue.append(tintvalue)\n",
    "        time_taken.append(timepast)\n",
    "\n",
    "    return [nPoints, intvalue, time_taken]"
   ]
  },
  {
   "cell_type": "code",
   "execution_count": null,
   "metadata": {},
   "outputs": [],
   "source": [
    "def plotmeN(C, a, b, intmethod, Nmax = 500, Ndiffs = 10, realvalue = None):\n",
    "    '''\n",
    "    Performs time, convergence, and accuracy test as a function of intervals used\n",
    "    Uses the Newton-Cotes integration method\n",
    "    Plots results in two or three separate figures, depending on if realvalue was specified.\n",
    "\n",
    "    Attributes\n",
    "    ----------\n",
    "    a : float \n",
    "        lower limit of function\n",
    "    b : float\n",
    "        upper limit of function\n",
    "    intmethod : 0, 1, 2\n",
    "        Method of choice for integration, per the NCInt method. \n",
    "    Ndiffs: int\n",
    "        Differences between successive intervals tested. eg. if Nmax = 5 and Ndiffs = 2, then those tested \n",
    "        are N = 1, 3, 5\n",
    "    realvalue: float\n",
    "        The real value of the integral. Used to compare the numerical integration with the analytical one.\n",
    "    '''\n",
    "    import matplotlib.pyplot as plt \n",
    "\n",
    "    RetAn = retanalysisN(C, a, b, Nmax, Ndiffs, intmethod)\n",
    "\n",
    "    plt.figure(0)\n",
    "    plt.title('Value of Integral as a function of sample points')\n",
    "    plt.plot(RetAn[0], RetAn[1])\n",
    "    plt.show()\n",
    "\n",
    "    if realvalue != None:\n",
    "        plt.figure(1)\n",
    "        plt.title('Percentage Difference from Actual Value')\n",
    "        RVlst = [(realvalue - i)*100 / realvalue for i in RetAn[1]]\n",
    "        plt.plot(RetAn[0], RVlst)\n",
    "        plt.show()\n",
    "\n",
    "    plt.figure(2)\n",
    "    plt.title('Timing Test')\n",
    "    plt.plot(RetAn[0], RetAn[2])\n",
    "    plt.show()"
   ]
  },
  {
   "cell_type": "code",
   "execution_count": null,
   "metadata": {
    "scrolled": true
   },
   "outputs": [],
   "source": [
    "retanalysisN(F4,[0,0],[10,10], 50, 10, 2)"
   ]
  },
  {
   "cell_type": "code",
   "execution_count": null,
   "metadata": {},
   "outputs": [],
   "source": [
    "plotmeN(F4, [0,0], [10,10], 2, Nmax = 500)"
   ]
  },
  {
   "cell_type": "code",
   "execution_count": null,
   "metadata": {},
   "outputs": [],
   "source": [
    "eval('f4(0,1)')"
   ]
  },
  {
   "cell_type": "markdown",
   "metadata": {},
   "source": [
    "### Adaptive"
   ]
  },
  {
   "cell_type": "code",
   "execution_count": null,
   "metadata": {},
   "outputs": [],
   "source": [
    "def retanalysisadaptN(C, a, b, Taumin10to, intmethod):\n",
    "    '''\n",
    "    Performs time, convergence, and accuracy test as a function of intervals used\n",
    "    Uses the Newton-Cotes integration method\n",
    "\n",
    "    Attributes\n",
    "    ----------\n",
    "    a : float \n",
    "        lower limit of function\n",
    "    b : float\n",
    "        upper limit of function\n",
    "    Nmax : int\n",
    "        Number of maximum intervals for the function to calculate\n",
    "    Ndiffs: int\n",
    "        Differences between successive intervals tested. eg. if Nmax = 5 and Ndiffs = 2, then those tested \n",
    "        are N = 1, 3, 5\n",
    "    '''\n",
    "    import time\n",
    "    start_time = time.time()\n",
    "\n",
    "    nPoints = [1000]\n",
    "    intvalue = [C.AdaptIntN(a, b, nPoints[0], intmethod)]\n",
    "    time_taken = [time.time()-start_time]\n",
    "\n",
    "    for i in range(int(3-Taumin10to)):\n",
    "        npoint = 1000/(10**i)\n",
    "\n",
    "        start_time = time.time()\n",
    "        tintvalue = C.AdaptInt(a, b, npoint, intmethod)\n",
    "        timepast = time.time() - start_time\n",
    "\n",
    "        nPoints.append(npoint)\n",
    "        intvalue.append(tintvalue)\n",
    "        time_taken.append(timepast)\n",
    "\n",
    "    return [nPoints, intvalue, time_taken]"
   ]
  },
  {
   "cell_type": "code",
   "execution_count": null,
   "metadata": {},
   "outputs": [],
   "source": [
    "def plotmeadapt(C, a, b, intmethod, Taumin10to = 500, realvalue = None):\n",
    "    '''\n",
    "    Performs time, convergence, and accuracy test as a function of intervals used\n",
    "    Uses the Newton-Cotes integration method\n",
    "    Plots results in two or three separate figures, depending on if realvalue was specified.\n",
    "\n",
    "    Attributes\n",
    "    ----------\n",
    "    a : float \n",
    "        lower limit of function\n",
    "    b : float\n",
    "        upper limit of function\n",
    "    intmethod : 0, 1, 2\n",
    "        Method of choice for integration, per the NCInt method. \n",
    "    Ndiffs: int\n",
    "        Differences between successive intervals tested. eg. if Nmax = 5 and Ndiffs = 2, then those tested \n",
    "        are N = 1, 3, 5\n",
    "    realvalue: float\n",
    "        The real value of the integral. Used to compare the numerical integration with the analytical one.\n",
    "    '''\n",
    "    import matplotlib.pyplot as plt \n",
    "\n",
    "    RetAn = retanalysisadapt(C, a, b, Taumin10to, intmethod)\n",
    "\n",
    "    plt.figure(0)\n",
    "    plt.title('Value of Integral as a function of sample points based on tolerance')\n",
    "    plt.plot(RetAn[0], RetAn[1])\n",
    "    plt.show()\n",
    "\n",
    "    if realvalue != None:\n",
    "        plt.figure(1)\n",
    "        plt.title('Percentage Difference from Actual Value based on tolerance')\n",
    "        RVlst = [(realvalue - i)*100 / realvalue for i in RetAn[1]]\n",
    "        plt.plot(RetAn[0], RVlst)\n",
    "        plt.show()\n",
    "\n",
    "    plt.figure(2)\n",
    "    plt.title('Timing Test')\n",
    "    plt.plot(RetAn[0], RetAn[2])\n",
    "    plt.show()\n",
    "    #return nPoints"
   ]
  },
  {
   "cell_type": "code",
   "execution_count": 4,
   "metadata": {},
   "outputs": [
    {
     "ename": "TypeError",
     "evalue": "'int' object is not subscriptable",
     "output_type": "error",
     "traceback": [
      "\u001b[0;31m---------------------------------------------------------------------------\u001b[0m",
      "\u001b[0;31mTypeError\u001b[0m                                 Traceback (most recent call last)",
      "\u001b[0;32m<ipython-input-4-047aec632e02>\u001b[0m in \u001b[0;36m<module>\u001b[0;34m\u001b[0m\n\u001b[0;32m----> 1\u001b[0;31m \u001b[0mF4\u001b[0m\u001b[0;34m.\u001b[0m\u001b[0mAdaptIntN\u001b[0m\u001b[0;34m(\u001b[0m\u001b[0;34m[\u001b[0m\u001b[0;36m0\u001b[0m\u001b[0;34m,\u001b[0m\u001b[0;36m0\u001b[0m\u001b[0;34m]\u001b[0m\u001b[0;34m,\u001b[0m \u001b[0;34m[\u001b[0m\u001b[0;36m10\u001b[0m\u001b[0;34m,\u001b[0m\u001b[0;36m10\u001b[0m\u001b[0;34m]\u001b[0m\u001b[0;34m,\u001b[0m \u001b[0;36m1e-5\u001b[0m\u001b[0;34m,\u001b[0m \u001b[0;36m2\u001b[0m\u001b[0;34m)\u001b[0m\u001b[0;34m\u001b[0m\u001b[0;34m\u001b[0m\u001b[0m\n\u001b[0m",
      "\u001b[0;32m~/Desktop/Integration_Methods/Integrate_me.py\u001b[0m in \u001b[0;36mAdaptIntN\u001b[0;34m(self, A, B, tau, intmeth)\u001b[0m\n\u001b[1;32m    965\u001b[0m \u001b[0;34m\u001b[0m\u001b[0m\n\u001b[1;32m    966\u001b[0m         \u001b[0;31m#Bisection\u001b[0m\u001b[0;34m\u001b[0m\u001b[0;34m\u001b[0m\u001b[0;34m\u001b[0m\u001b[0m\n\u001b[0;32m--> 967\u001b[0;31m         \u001b[0mM\u001b[0m \u001b[0;34m=\u001b[0m \u001b[0;34m[\u001b[0m\u001b[0;34m(\u001b[0m\u001b[0mA\u001b[0m\u001b[0;34m[\u001b[0m\u001b[0mi\u001b[0m\u001b[0;34m]\u001b[0m \u001b[0;34m+\u001b[0m \u001b[0mN\u001b[0m\u001b[0;34m[\u001b[0m\u001b[0mi\u001b[0m\u001b[0;34m]\u001b[0m\u001b[0;34m)\u001b[0m \u001b[0;34m/\u001b[0m \u001b[0;36m2\u001b[0m  \u001b[0;32mfor\u001b[0m \u001b[0mi\u001b[0m \u001b[0;32min\u001b[0m \u001b[0mrange\u001b[0m\u001b[0;34m(\u001b[0m\u001b[0mdim\u001b[0m\u001b[0;34m)\u001b[0m\u001b[0;34m]\u001b[0m\u001b[0;34m\u001b[0m\u001b[0;34m\u001b[0m\u001b[0m\n\u001b[0m\u001b[1;32m    968\u001b[0m         \u001b[0mVb\u001b[0m \u001b[0;34m=\u001b[0m \u001b[0;34m[\u001b[0m\u001b[0;36m0\u001b[0m \u001b[0;32mfor\u001b[0m \u001b[0mi\u001b[0m \u001b[0;32min\u001b[0m \u001b[0mrange\u001b[0m\u001b[0;34m(\u001b[0m\u001b[0mdim\u001b[0m\u001b[0;34m)\u001b[0m\u001b[0;34m]\u001b[0m\u001b[0;34m\u001b[0m\u001b[0;34m\u001b[0m\u001b[0m\n\u001b[1;32m    969\u001b[0m         \u001b[0mREC\u001b[0m \u001b[0;34m=\u001b[0m \u001b[0mself\u001b[0m\u001b[0;34m.\u001b[0m\u001b[0mrec\u001b[0m\u001b[0;34m(\u001b[0m\u001b[0;36m2\u001b[0m\u001b[0;34m,\u001b[0m \u001b[0mdim\u001b[0m\u001b[0;34m,\u001b[0m \u001b[0mVb\u001b[0m\u001b[0;34m)\u001b[0m\u001b[0;34m\u001b[0m\u001b[0;34m\u001b[0m\u001b[0m\n",
      "\u001b[0;32m~/Desktop/Integration_Methods/Integrate_me.py\u001b[0m in \u001b[0;36m<listcomp>\u001b[0;34m(.0)\u001b[0m\n\u001b[1;32m    965\u001b[0m \u001b[0;34m\u001b[0m\u001b[0m\n\u001b[1;32m    966\u001b[0m         \u001b[0;31m#Bisection\u001b[0m\u001b[0;34m\u001b[0m\u001b[0;34m\u001b[0m\u001b[0;34m\u001b[0m\u001b[0m\n\u001b[0;32m--> 967\u001b[0;31m         \u001b[0mM\u001b[0m \u001b[0;34m=\u001b[0m \u001b[0;34m[\u001b[0m\u001b[0;34m(\u001b[0m\u001b[0mA\u001b[0m\u001b[0;34m[\u001b[0m\u001b[0mi\u001b[0m\u001b[0;34m]\u001b[0m \u001b[0;34m+\u001b[0m \u001b[0mN\u001b[0m\u001b[0;34m[\u001b[0m\u001b[0mi\u001b[0m\u001b[0;34m]\u001b[0m\u001b[0;34m)\u001b[0m \u001b[0;34m/\u001b[0m \u001b[0;36m2\u001b[0m  \u001b[0;32mfor\u001b[0m \u001b[0mi\u001b[0m \u001b[0;32min\u001b[0m \u001b[0mrange\u001b[0m\u001b[0;34m(\u001b[0m\u001b[0mdim\u001b[0m\u001b[0;34m)\u001b[0m\u001b[0;34m]\u001b[0m\u001b[0;34m\u001b[0m\u001b[0;34m\u001b[0m\u001b[0m\n\u001b[0m\u001b[1;32m    968\u001b[0m         \u001b[0mVb\u001b[0m \u001b[0;34m=\u001b[0m \u001b[0;34m[\u001b[0m\u001b[0;36m0\u001b[0m \u001b[0;32mfor\u001b[0m \u001b[0mi\u001b[0m \u001b[0;32min\u001b[0m \u001b[0mrange\u001b[0m\u001b[0;34m(\u001b[0m\u001b[0mdim\u001b[0m\u001b[0;34m)\u001b[0m\u001b[0;34m]\u001b[0m\u001b[0;34m\u001b[0m\u001b[0;34m\u001b[0m\u001b[0m\n\u001b[1;32m    969\u001b[0m         \u001b[0mREC\u001b[0m \u001b[0;34m=\u001b[0m \u001b[0mself\u001b[0m\u001b[0;34m.\u001b[0m\u001b[0mrec\u001b[0m\u001b[0;34m(\u001b[0m\u001b[0;36m2\u001b[0m\u001b[0;34m,\u001b[0m \u001b[0mdim\u001b[0m\u001b[0;34m,\u001b[0m \u001b[0mVb\u001b[0m\u001b[0;34m)\u001b[0m\u001b[0;34m\u001b[0m\u001b[0;34m\u001b[0m\u001b[0m\n",
      "\u001b[0;31mTypeError\u001b[0m: 'int' object is not subscriptable"
     ]
    }
   ],
   "source": [
    "F4.AdaptIntN([0,0], [10,10], 1e-5, 2)"
   ]
  },
  {
   "cell_type": "code",
   "execution_count": null,
   "metadata": {},
   "outputs": [],
   "source": [
    "retanalysisadapt(F4, [0,0], [10,10], -5, 0)"
   ]
  },
  {
   "cell_type": "code",
   "execution_count": null,
   "metadata": {},
   "outputs": [],
   "source": [
    "plotmeadapt(F4, 0, 10, 0, -5, realvalue= 2500)"
   ]
  },
  {
   "cell_type": "markdown",
   "metadata": {},
   "source": [
    "### MC"
   ]
  },
  {
   "cell_type": "code",
   "execution_count": null,
   "metadata": {},
   "outputs": [],
   "source": [
    "def retanalysismonteN(C, a, b, Nmax = 500, Ndiffs = 10):\n",
    "    '''\n",
    "    Performs time, convergence, and accuracy test as a function of intervals used\n",
    "    Uses the Newton-Cotes integration method\n",
    "\n",
    "    Attributes\n",
    "    ----------\n",
    "    a : float \n",
    "        lower limit of function\n",
    "    b : float\n",
    "        upper limit of function\n",
    "    Nmax : int\n",
    "        Number of maximum intervals for the function to calculate\n",
    "    Ndiffs: int\n",
    "        Differences between successive intervals tested. eg. if Nmax = 5 and Ndiffs = 2, then those tested \n",
    "        are N = 1, 3, 5\n",
    "    '''\n",
    "    import time\n",
    "    start_time = time.time()\n",
    "\n",
    "    nPoints = [2]\n",
    "    intvalue = [C.MonteCarloN(a, b, nPoints[0])]\n",
    "    time_taken = [time.time()-start_time]\n",
    "\n",
    "    for i in range(int(Nmax/Ndiffs)):\n",
    "        npoint = (i+1)*Ndiffs\n",
    "\n",
    "        start_time = time.time()\n",
    "        tintvalue = C.MonteCarloN(a, b, npoint)\n",
    "        timepast = time.time() - start_time\n",
    "\n",
    "        nPoints.append(npoint)\n",
    "        intvalue.append(tintvalue)\n",
    "        time_taken.append(timepast)\n",
    "\n",
    "    return [nPoints, intvalue, time_taken]"
   ]
  },
  {
   "cell_type": "code",
   "execution_count": null,
   "metadata": {},
   "outputs": [],
   "source": [
    "def plotmemonteN(C, a, b, Nmax = 500, Ndiffs = 10, realvalue = None):\n",
    "    '''\n",
    "    Performs time, convergence, and accuracy test as a function of intervals used\n",
    "    Uses the Newton-Cotes integration method\n",
    "    Plots results in two or three separate figures, depending on if realvalue was specified.\n",
    "\n",
    "    Attributes\n",
    "    ----------\n",
    "    a : float \n",
    "        lower limit of function\n",
    "    b : float\n",
    "        upper limit of function\n",
    "    intmethod : 0, 1, 2\n",
    "        Method of choice for integration, per the NCInt method. \n",
    "    Ndiffs: int\n",
    "        Differences between successive intervals tested. eg. if Nmax = 5 and Ndiffs = 2, then those tested \n",
    "        are N = 1, 3, 5\n",
    "    realvalue: float\n",
    "        The real value of the integral. Used to compare the numerical integration with the analytical one.\n",
    "    '''\n",
    "    import matplotlib.pyplot as plt \n",
    "\n",
    "    RetAn = retanalysismonteN(C, a, b, Nmax, Ndiffs)\n",
    "\n",
    "    plt.figure(0)\n",
    "    plt.title('Value of Integral as a function of sample points')\n",
    "    plt.plot(RetAn[0], RetAn[1])\n",
    "    plt.show()\n",
    "\n",
    "    if realvalue != None:\n",
    "        plt.figure(1)\n",
    "        plt.title('Percentage Difference from Actual Value')\n",
    "        RVlst = [(realvalue - i)*100 / realvalue for i in RetAn[1]]\n",
    "        plt.plot(RetAn[0], RVlst)\n",
    "        plt.show()\n",
    "\n",
    "    plt.figure(2)\n",
    "    plt.title('Timing Test')\n",
    "    plt.plot(RetAn[0], RetAn[2])\n",
    "    plt.show()"
   ]
  },
  {
   "cell_type": "code",
   "execution_count": null,
   "metadata": {},
   "outputs": [],
   "source": [
    "plotmemonteN(F4, [0,0], [10,10], realvalue=50, Nmax = 5000)"
   ]
  },
  {
   "cell_type": "markdown",
   "metadata": {},
   "source": [
    "# Stratified MonteCarlo\n",
    "- Uncertainty is as a function of sampled points\n",
    "- Demonstrate functions that cant be analytically integrated\n",
    "- Demonstrate convergence and perform timing tests"
   ]
  },
  {
   "cell_type": "code",
   "execution_count": null,
   "metadata": {},
   "outputs": [],
   "source": []
  }
 ],
 "metadata": {
  "kernelspec": {
   "display_name": "Python 3",
   "language": "python",
   "name": "python3"
  },
  "language_info": {
   "codemirror_mode": {
    "name": "ipython",
    "version": 3
   },
   "file_extension": ".py",
   "mimetype": "text/x-python",
   "name": "python",
   "nbconvert_exporter": "python",
   "pygments_lexer": "ipython3",
   "version": "3.6.8"
  }
 },
 "nbformat": 4,
 "nbformat_minor": 2
}
