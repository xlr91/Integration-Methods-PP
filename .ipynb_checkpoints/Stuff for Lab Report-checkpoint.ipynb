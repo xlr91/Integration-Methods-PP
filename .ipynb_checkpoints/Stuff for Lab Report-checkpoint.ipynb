{
 "cells": [
  {
   "cell_type": "code",
   "execution_count": 1,
   "metadata": {},
   "outputs": [],
   "source": [
    "import Integrate_me as IM"
   ]
  },
  {
   "cell_type": "markdown",
   "metadata": {},
   "source": [
    "### Functions for testing"
   ]
  },
  {
   "cell_type": "code",
   "execution_count": 2,
   "metadata": {},
   "outputs": [],
   "source": [
    "def f1(x):\n",
    "    return x\n",
    "\n",
    "def f2(x):\n",
    "    return x**2\n",
    "\n",
    "def f3(x):\n",
    "    return x**3\n",
    "\n",
    "def f4(x, y):\n",
    "    return x+y\n",
    "\n",
    "def Gauss(x):\n",
    "    return 2.71828**(-x**2) \n",
    "\n",
    "def S(x, y, z, w):\n",
    "    value = 0\n",
    "    if x**2 + y**2 + z**2 + w**2 <=1:\n",
    "        value = 1\n",
    "    return value"
   ]
  },
  {
   "cell_type": "markdown",
   "metadata": {},
   "source": [
    "### Integrator Classes "
   ]
  },
  {
   "cell_type": "code",
   "execution_count": 3,
   "metadata": {},
   "outputs": [],
   "source": [
    "F1 = IM.Integrator(f1) #50\n",
    "F2 = IM.Integrator(f2) #1000/3\n",
    "F3 = IM.Integrator(f3) #2500\n",
    "F4 = IM.Integrator(f4) #?\n",
    "G = IM.Integrator(Gauss)\n",
    "SPh = IM.Integrator(S)"
   ]
  },
  {
   "cell_type": "markdown",
   "metadata": {},
   "source": [
    "# Midpoint Rule \n",
    "\n",
    "- Uncertainty is as a function of sampled points\n",
    "- Demonstrate functions that cant be analytically integrated\n",
    "- Demonstrate convergence and perform timing tests\n"
   ]
  },
  {
   "cell_type": "code",
   "execution_count": 4,
   "metadata": {},
   "outputs": [],
   "source": [
    "def retanalysis(C, a, b, Nmax, Ndiffs, intmethod):\n",
    "    '''\n",
    "    Performs time, convergence, and accuracy test as a function of intervals used\n",
    "    Uses the Newton-Cotes integration method\n",
    "\n",
    "    Attributes\n",
    "    ----------\n",
    "    a : float \n",
    "        lower limit of function\n",
    "    b : float\n",
    "        upper limit of function\n",
    "    Nmax : int\n",
    "        Number of maximum intervals for the function to calculate\n",
    "    Ndiffs: int\n",
    "        Differences between successive intervals tested. eg. if Nmax = 5 and Ndiffs = 2, then those tested \n",
    "        are N = 1, 3, 5\n",
    "    '''\n",
    "    import time\n",
    "    start_time = time.time()\n",
    "\n",
    "    nPoints = [2]\n",
    "    intvalue = [C.NCInt(a, b, nPoints[0], intmethod)]\n",
    "    time_taken = [time.time()-start_time]\n",
    "\n",
    "    for i in range(int(Nmax/Ndiffs)):\n",
    "        npoint = (i+1)*Ndiffs\n",
    "\n",
    "        start_time = time.time()\n",
    "        tintvalue = C.NCInt(a, b, npoint, intmethod)\n",
    "        timepast = time.time() - start_time\n",
    "\n",
    "        nPoints.append(npoint)\n",
    "        intvalue.append(tintvalue)\n",
    "        time_taken.append(timepast)\n",
    "\n",
    "    return [nPoints, intvalue, time_taken]\n",
    "\n",
    "def plotme(C, a, b, intmethod, Nmax = 500, Ndiffs = 10, realvalue = None):\n",
    "    '''\n",
    "    Performs time, convergence, and accuracy test as a function of intervals used\n",
    "    Uses the Newton-Cotes integration method\n",
    "    Plots results in two or three separate figures, depending on if realvalue was specified.\n",
    "\n",
    "    Attributes\n",
    "    ----------\n",
    "    a : float \n",
    "        lower limit of function\n",
    "    b : float\n",
    "        upper limit of function\n",
    "    intmethod : 0, 1, 2\n",
    "        Method of choice for integration, per the NCInt method. \n",
    "    Ndiffs: int\n",
    "        Differences between successive intervals tested. eg. if Nmax = 5 and Ndiffs = 2, then those tested \n",
    "        are N = 1, 3, 5\n",
    "    realvalue: float\n",
    "        The real value of the integral. Used to compare the numerical integration with the analytical one.\n",
    "    '''\n",
    "    import matplotlib.pyplot as plt \n",
    "\n",
    "    RetAn = C.retanalysis(a, b, Nmax, Ndiffs, intmethod)\n",
    "\n",
    "    plt.figure(0)\n",
    "    plt.title('Value of Integral as a function of sample points')\n",
    "    plt.plot(RetAn[0], RetAn[1])\n",
    "    plt.show()\n",
    "\n",
    "    if realvalue != None:\n",
    "        plt.figure(1)\n",
    "        plt.title('Percentage Difference from Actual Value')\n",
    "        RVlst = [(realvalue - i)*100 / realvalue for i in RetAn[1]]\n",
    "        plt.plot(RetAn[0], RVlst)\n",
    "        plt.show()\n",
    "\n",
    "    plt.figure(2)\n",
    "    plt.title('Timing Test')\n",
    "    plt.plot(RetAn[0], RetAn[2])\n",
    "    plt.show()\n",
    "    #return nPoints\n",
    "\n",
    "def plotmeval(C, a, b, intmethod, Nmax = 500, Ndiffs = 10, realvalue = None):\n",
    "    '''\n",
    "    Performs time, convergence, and accuracy test as a function of intervals used\n",
    "    Uses the Newton-Cotes integration method\n",
    "    Plots results in one figure.\n",
    "\n",
    "    Attributes\n",
    "    ----------\n",
    "    a : float \n",
    "        lower limit of function\n",
    "    b : float\n",
    "        upper limit of function\n",
    "    intmethod : 0, 1, 2\n",
    "        Method of choice for integration, per the NCInt method. \n",
    "    Ndiffs: int\n",
    "        Differences between successive intervals tested. eg. if Nmax = 5 and Ndiffs = 2, then those tested \n",
    "        are N = 1, 3, 5\n",
    "    realvalue: float\n",
    "        The real value of the integral. Used to compare the numerical integration with the analytical one.\n",
    "    '''\n",
    "    import matplotlib.pyplot as plt\n",
    "    import matplotlib.gridspec as gridspec\n",
    "\n",
    "    RetAn = C.retanalysis(a, b, Nmax, Ndiffs, intmethod)\n",
    "\n",
    "    fig = plt.figure(tight_layout=True)\n",
    "    gs = gridspec.GridSpec(2, 2)\n",
    "    ax = fig.add_subplot(gs[0, :])\n",
    "    ax.plot(RetAn[0], RetAn[2])\n",
    "    ax.set_title('%s for intmethod %s' % (C.f.__name__, intmethod))\n",
    "    ax.set_ylabel('Time taken (s)')\n",
    "    ax.set_xlabel('Number of Sample Points')\n",
    "\n",
    "    if realvalue != None:\n",
    "        ax = fig.add_subplot(gs[1,1])\n",
    "        RVlst = [(realvalue - i)*100 / realvalue for i in RetAn[1]]\n",
    "\n",
    "        ax.plot(RetAn[0], RVlst)\n",
    "        ax.set_title('Percentage Diffs')\n",
    "        ax.set_ylabel('Percentage Difference (%)')\n",
    "        ax.set_xlabel('Number of Sample Points')\n",
    "\n",
    "        ax = fig.add_subplot(gs[1,0])\n",
    "    else: \n",
    "        ax = fig.add_subplot(gs[1,:])\n",
    "\n",
    "    ax.plot(RetAn[0], RetAn[1])\n",
    "    ax.set_title('Integral Values')\n",
    "    ax.set_ylabel('Value of Integral')\n",
    "    ax.set_xlabel('Number of Sample Points')\n",
    "\n",
    "    fig.align_labels()\n",
    "    plt.show()\n"
   ]
  },
  {
   "cell_type": "code",
   "execution_count": 6,
   "metadata": {},
   "outputs": [
    {
     "data": {
      "image/png": "[encoded data removed]",
      "text/plain": [
       "<Figure size 432x288 with 3 Axes>"
      ]
     },
     "metadata": {
      "needs_background": "light"
     },
     "output_type": "display_data"
    },
    {
     "data": {
      "image/png": "[encoded data removed]",
      "text/plain": [
       "<Figure size 432x288 with 1 Axes>"
      ]
     },
     "metadata": {
      "needs_background": "light"
     },
     "output_type": "display_data"
    },
    {
     "data": {
      "image/png": "[encoded data removed]",
      "text/plain": [
       "<Figure size 432x288 with 1 Axes>"
      ]
     },
     "metadata": {
      "needs_background": "light"
     },
     "output_type": "display_data"
    },
    {
     "data": {
      "image/png": "[encoded data removed]",
      "text/plain": [
       "<Figure size 432x288 with 1 Axes>"
      ]
     },
     "metadata": {
      "needs_background": "light"
     },
     "output_type": "display_data"
    }
   ],
   "source": [
    "plotmeval(F1, 0, 10, 0, realvalue=50)\n",
    "plotme(F1, 0, 10, 0, realvalue=50)"
   ]
  },
  {
   "cell_type": "code",
   "execution_count": null,
   "metadata": {},
   "outputs": [],
   "source": [
    "plotmeval(F3, 0, 10, 0, realvalue=2500)\n",
    "plotme(F3, 0, 10, 0, realvalue=2500)"
   ]
  },
  {
   "cell_type": "markdown",
   "metadata": {},
   "source": [
    "# Trapezium Rule\n",
    "- Uncertainty is as a function of sampled points\n",
    "- Demonstrate functions that cant be analytically integrated\n",
    "- Demonstrate convergence and perform timing tests"
   ]
  },
  {
   "cell_type": "code",
   "execution_count": null,
   "metadata": {
    "scrolled": true
   },
   "outputs": [],
   "source": [
    "plotmeval(F1, 0, 10, 1, realvalue=50)\n",
    "plotme(F1, 0, 10, 1, realvalue=50)"
   ]
  },
  {
   "cell_type": "code",
   "execution_count": null,
   "metadata": {},
   "outputs": [],
   "source": [
    "plotmeval(F3, 0, 10, 1, realvalue=2500)\n",
    "plotme(F3, 0, 10, 1, realvalue=2500)"
   ]
  },
  {
   "cell_type": "markdown",
   "metadata": {},
   "source": [
    "# Simpsons Rule\n",
    "- Uncertainty is as a function of sampled points\n",
    "- Demonstrate functions that cant be analytically integrated\n",
    "- Demonstrate convergence and perform timing tests"
   ]
  },
  {
   "cell_type": "code",
   "execution_count": null,
   "metadata": {},
   "outputs": [],
   "source": [
    "plotmeval(F1, 0, 10, 2, realvalue=50)\n",
    "plotme(F1, 0, 10, 2, realvalue=50)"
   ]
  },
  {
   "cell_type": "code",
   "execution_count": null,
   "metadata": {},
   "outputs": [],
   "source": [
    "plotmeval(F3, 0, 10, 2, realvalue=2500, Nmax = 5000)\n",
    "plotme(F3, 0, 10, 2, realvalue=2500)"
   ]
  },
  {
   "cell_type": "markdown",
   "metadata": {},
   "source": [
    "### Results on the Newton-Cotes\n",
    "\n",
    "The timing tests between all three Newton-Cotes methods are extremely similar; this makes sense as each of them have the exact same algorithm with only the weights being varied between them. Unsurprisingly, simpsons rule convergest the fastest between the three thingys. \n",
    "Interesting things happen when the N transitions between odd and even in simpsons rule. This is very likely due to the presence of the thingy effect, where it becomes unstable as the number of polynomals go up. \n",
    "COMPARE EVENS ONLY AND ODD AND EVEN "
   ]
  },
  {
   "cell_type": "code",
   "execution_count": null,
   "metadata": {},
   "outputs": [],
   "source": [
    "def plotmecombi(C, a, b, Nmax = 500, Ndiffs = 10, realvalue = None):\n",
    "    '''\n",
    "    Performs time, convergence, and accuracy test as a function of intervals used\n",
    "    Uses the Newton-Cotes integration method\n",
    "    Plots results in two or three separate figures, depending on if realvalue was specified.\n",
    "\n",
    "    Attributes\n",
    "    ----------\n",
    "    a : float \n",
    "        lower limit of function\n",
    "    b : float\n",
    "        upper limit of function\n",
    "    intmethod : 0, 1, 2\n",
    "        Method of choice for integration, per the NCInt method. \n",
    "    Ndiffs: int\n",
    "        Differences between successive intervals tested. eg. if Nmax = 5 and Ndiffs = 2, then those tested \n",
    "        are N = 1, 3, 5\n",
    "    realvalue: float\n",
    "        The real value of the integral. Used to compare the numerical integration with the analytical one.\n",
    "    '''\n",
    "    import matplotlib.pyplot as plt \n",
    "\n",
    "    RetAn = [C.retanalysis(a, b, Nmax, Ndiffs, i) for i in range(3)]\n",
    "\n",
    "    plt.figure(0)\n",
    "    plt.title('Value of Integral as a function of sample points')\n",
    "    for i in range(3):\n",
    "        plt.plot(RetAn[i][0], RetAn[i][1])\n",
    "    plt.show()\n",
    "\n",
    "    if realvalue != None:\n",
    "        plt.figure(1)\n",
    "        plt.title('Percentage Difference from Actual Value')\n",
    "        for i in range(3):\n",
    "            RVlst = [(realvalue - i)*100 / realvalue for i in RetAn[i][1]]\n",
    "            plt.plot(RetAn[i][0], RVlst, label = str(i))\n",
    "        plt.legend()\n",
    "        plt.show()\n",
    "\n",
    "    plt.figure(2)\n",
    "    plt.title('Timing Test')\n",
    "    for i in range(3):\n",
    "        plt.plot(RetAn[i][0], RetAn[i][2], label = str(i))\n",
    "    plt.legend()\n",
    "    plt.show()\n",
    "    \n",
    "plotmecombi(F3,0, 10, Nmax = 50, realvalue = 2500, Ndiffs = 1)\n",
    "print('next')\n",
    "plotmecombi(G,-3, 3, Nmax = 50, realvalue = 1.7724538509, Ndiffs = 1)"
   ]
  },
  {
   "cell_type": "markdown",
   "metadata": {},
   "source": [
    "# AdaptiveIntegration Rule\n",
    "- Uncertainty is as a function of sampled points\n",
    "- Demonstrate functions that cant be analytically integrated\n",
    "- Demonstrate convergence and perform timing tests\n",
    "\n",
    "It converges stupidly fast\n",
    "to the order of 1e-5 tolerance by less than 20 calls of the integral\n",
    "converges to 0 in the gaussian integral in like three fukin calls holy sht\n",
    "however should be careful that the function actually calls something meaningful, eg the extreme case it will not be able to integrate a delta function\n",
    "Realistically speaking, if the limits are chosen incorrectly, it will not hit the gaussian peak, and would think that the intergal is just 0 \n",
    "works best for functions that are _not_ flat"
   ]
  },
  {
   "cell_type": "code",
   "execution_count": null,
   "metadata": {},
   "outputs": [],
   "source": [
    "def retanalysisadapt(C, a, b, Taumin10to, intmethod):\n",
    "    '''\n",
    "    Performs time, convergence, and accuracy test as a function of intervals used\n",
    "    Uses the Newton-Cotes integration method\n",
    "\n",
    "    Attributes\n",
    "    ----------\n",
    "    a : float \n",
    "        lower limit of function\n",
    "    b : float\n",
    "        upper limit of function\n",
    "    Nmax : int\n",
    "        Number of maximum intervals for the function to calculate\n",
    "    Ndiffs: int\n",
    "        Differences between successive intervals tested. eg. if Nmax = 5 and Ndiffs = 2, then those tested \n",
    "        are N = 1, 3, 5\n",
    "    '''\n",
    "    import time\n",
    "    start_time = time.time()\n",
    "    \n",
    "    C.j = 0\n",
    "    nPoints = [1000]\n",
    "    intvalue = [C.AdaptInt(a, b, nPoints[0], intmethod)]\n",
    "    J = [C.j]\n",
    "    time_taken = [time.time()-start_time]\n",
    "\n",
    "    for i in range(int(3-Taumin10to)):\n",
    "        npoint = 1000/(5**i)\n",
    "        C.j = 0\n",
    "        start_time = time.time()\n",
    "        tintvalue = C.AdaptInt(a, b, npoint, intmethod)\n",
    "        timepast = time.time() - start_time\n",
    "        J.append(C.j)\n",
    "        nPoints.append(npoint)\n",
    "        intvalue.append(tintvalue)\n",
    "        time_taken.append(timepast)\n",
    "\n",
    "    return [nPoints, intvalue, time_taken, J]\n",
    "\n",
    "def plotmeadapt(C, a, b, intmethod, Taumin10to = -10, realvalue = None):\n",
    "    '''\n",
    "    Performs time, convergence, and accuracy test as a function of intervals used\n",
    "    Uses the Newton-Cotes integration method\n",
    "    Plots results in two or three separate figures, depending on if realvalue was specified.\n",
    "\n",
    "    Attributes\n",
    "    ----------\n",
    "    a : float \n",
    "        lower limit of function\n",
    "    b : float\n",
    "        upper limit of function\n",
    "    intmethod : 0, 1, 2\n",
    "        Method of choice for integration, per the NCInt method. \n",
    "    Ndiffs: int\n",
    "        Differences between successive intervals tested. eg. if Nmax = 5 and Ndiffs = 2, then those tested \n",
    "        are N = 1, 3, 5\n",
    "    realvalue: float\n",
    "        The real value of the integral. Used to compare the numerical integration with the analytical one.\n",
    "    '''\n",
    "    import matplotlib.pyplot as plt \n",
    "\n",
    "    RetAn = retanalysisadapt(C, a, b, Taumin10to, intmethod)\n",
    "\n",
    "    plt.figure(0)\n",
    "    plt.title('Value of Integral as a function of sample points based on tolerance')\n",
    "    plt.plot(RetAn[0], RetAn[1])\n",
    "    plt.show()\n",
    "\n",
    "    if realvalue != None:\n",
    "        plt.figure(1)\n",
    "        plt.title('Percentage Difference from Actual Value based on tolerance')\n",
    "        RVlst = [(realvalue - i)*100 / realvalue for i in RetAn[1]]\n",
    "        plt.plot(RetAn[0], RVlst)\n",
    "        plt.show()\n",
    "\n",
    "    plt.figure(2)\n",
    "    plt.title('Timing Test')\n",
    "    plt.plot(RetAn[3], RetAn[2])\n",
    "    plt.show()\n",
    "    #return nPoints\n",
    "    plt.figure(3)\n",
    "    plt.title('calls vs percentagediff')\n",
    "    plt.plot(RetAn[3], RVlst)"
   ]
  },
  {
   "cell_type": "code",
   "execution_count": null,
   "metadata": {},
   "outputs": [],
   "source": [
    "retanalysisadapt(F3, 0, 10, -7, 0)"
   ]
  },
  {
   "cell_type": "code",
   "execution_count": null,
   "metadata": {
    "scrolled": true
   },
   "outputs": [],
   "source": [
    "plotmeadapt(G, -10, 10, 2, -7, realvalue= 1.7724538509)"
   ]
  },
  {
   "cell_type": "markdown",
   "metadata": {},
   "source": [
    "# MonteCarlo Rule\n",
    "- Uncertainty is as a function of sampled points\n",
    "- Demonstrate functions that cant be analytically integrated\n",
    "- Demonstrate convergence and perform timing tests"
   ]
  },
  {
   "cell_type": "code",
   "execution_count": null,
   "metadata": {},
   "outputs": [],
   "source": [
    "F1.MonteCarlo(0, 10)"
   ]
  },
  {
   "cell_type": "code",
   "execution_count": null,
   "metadata": {},
   "outputs": [],
   "source": [
    "def retanalysismonte(C, a, b, Nmax = 500, Ndiffs = 10):\n",
    "    '''\n",
    "    Performs time, convergence, and accuracy test as a function of intervals used\n",
    "    Uses the Newton-Cotes integration method\n",
    "\n",
    "    Attributes\n",
    "    ----------\n",
    "    a : float \n",
    "        lower limit of function\n",
    "    b : float\n",
    "        upper limit of function\n",
    "    Nmax : int\n",
    "        Number of maximum intervals for the function to calculate\n",
    "    Ndiffs: int\n",
    "        Differences between successive intervals tested. eg. if Nmax = 5 and Ndiffs = 2, then those tested \n",
    "        are N = 1, 3, 5\n",
    "    '''\n",
    "    import time\n",
    "    start_time = time.time()\n",
    "\n",
    "    nPoints = [2]\n",
    "    intvalue = [C.MonteCarlo(a, b, nPoints[0])]\n",
    "    time_taken = [time.time()-start_time]\n",
    "\n",
    "    for i in range(int(Nmax/Ndiffs)):\n",
    "        npoint = (i+1)*Ndiffs\n",
    "\n",
    "        start_time = time.time()\n",
    "        tintvalue = C.MonteCarlo(a, b, npoint)\n",
    "        timepast = time.time() - start_time\n",
    "\n",
    "        nPoints.append(npoint)\n",
    "        intvalue.append(tintvalue)\n",
    "        time_taken.append(timepast)\n",
    "\n",
    "    return [nPoints, intvalue, time_taken]"
   ]
  },
  {
   "cell_type": "code",
   "execution_count": null,
   "metadata": {},
   "outputs": [],
   "source": [
    "def plotmemonte(C, a, b, Nmax = 500, Ndiffs = 10, realvalue = None):\n",
    "    '''\n",
    "    Performs time, convergence, and accuracy test as a function of intervals used\n",
    "    Uses the Newton-Cotes integration method\n",
    "    Plots results in two or three separate figures, depending on if realvalue was specified.\n",
    "\n",
    "    Attributes\n",
    "    ----------\n",
    "    a : float \n",
    "        lower limit of function\n",
    "    b : float\n",
    "        upper limit of function\n",
    "    intmethod : 0, 1, 2\n",
    "        Method of choice for integration, per the NCInt method. \n",
    "    Ndiffs: int\n",
    "        Differences between successive intervals tested. eg. if Nmax = 5 and Ndiffs = 2, then those tested \n",
    "        are N = 1, 3, 5\n",
    "    realvalue: float\n",
    "        The real value of the integral. Used to compare the numerical integration with the analytical one.\n",
    "    '''\n",
    "    import matplotlib.pyplot as plt \n",
    "    import numpy as np\n",
    "    \n",
    "\n",
    "    RetAn = retanalysismonte(C, a, b, Nmax, Ndiffs)\n",
    "\n",
    "    plt.figure(0)\n",
    "    plt.title('Value of Integral as a function of sample points')\n",
    "    plt.plot(RetAn[0], RetAn[1])\n",
    "    plt.show()\n",
    "\n",
    "    if realvalue != None:\n",
    "        plt.figure(1)\n",
    "        plt.title('Percentage Difference from Actual Value')\n",
    "        RVlst = [(realvalue - i)*100 / realvalue for i in RetAn[1]]\n",
    "        plt.plot(RetAn[0], RVlst)\n",
    "        plt.show()\n",
    "\n",
    "    plt.figure(2)\n",
    "    plt.title('Timing Test')\n",
    "    plt.plot(RetAn[0], RetAn[2])\n",
    "    \n",
    "    Z = np.polyfit(RetAn[0], RetAn[2], 1)\n",
    "    #plt.figure(3)\n",
    "    x = np.linspace(RetAn[0][0], RetAn[0][-1], 100)\n",
    "    p = np.poly1d(Z)\n",
    "    plt.plot(x, p(x), color='r')\n",
    "    \n",
    "    \n",
    "    plt.show()\n",
    "    \n"
   ]
  },
  {
   "cell_type": "code",
   "execution_count": null,
   "metadata": {},
   "outputs": [],
   "source": [
    "plotmemonte(F1, 0, 10, realvalue=50, Nmax = 10000)"
   ]
  },
  {
   "cell_type": "code",
   "execution_count": null,
   "metadata": {},
   "outputs": [],
   "source": [
    "plotmemonte(F3, 0, 10, realvalue=2500, Nmax = 5000)"
   ]
  },
  {
   "cell_type": "markdown",
   "metadata": {},
   "source": [
    "# N dimensions\n",
    "- Uncertainty is as a function of sampled points\n",
    "- Demonstrate functions that cant be analytically integrated\n",
    "- Demonstrate convergence and perform timing tests"
   ]
  },
  {
   "cell_type": "markdown",
   "metadata": {},
   "source": [
    "### simpsons (NC)"
   ]
  },
  {
   "cell_type": "code",
   "execution_count": null,
   "metadata": {},
   "outputs": [],
   "source": [
    "def retanalysisN(C, a, b, Nmax, Ndiffs, intmethod):\n",
    "    '''\n",
    "    Performs time, convergence, and accuracy test as a function of intervals used\n",
    "    Uses the Newton-Cotes integration method\n",
    "\n",
    "    Attributes\n",
    "    ----------\n",
    "    a : float \n",
    "        lower limit of function\n",
    "    b : float\n",
    "        upper limit of function\n",
    "    Nmax : int\n",
    "        Number of maximum intervals for the function to calculate\n",
    "    Ndiffs: int\n",
    "        Differences between successive intervals tested. eg. if Nmax = 5 and Ndiffs = 2, then those tested \n",
    "        are N = 1, 3, 5\n",
    "    '''\n",
    "    import time\n",
    "    start_time = time.time()\n",
    "    \n",
    "    nPoints = [2]\n",
    "    Npoints = [nPoints[0] for i in range(len(a))]\n",
    "    intvalue = [C.NCIntN(a, b, Npoints, intmethod)]\n",
    "    time_taken = [time.time()-start_time]\n",
    "\n",
    "    for i in range(int(Nmax/Ndiffs)):\n",
    "        npoint = (i+1)*Ndiffs\n",
    "\n",
    "        start_time = time.time()\n",
    "        Npoint = [npoint for i in range(len(a))]\n",
    "        tintvalue = C.NCIntN(a, b, Npoint, intmethod)\n",
    "        timepast = time.time() - start_time\n",
    "\n",
    "        nPoints.append(npoint)\n",
    "        intvalue.append(tintvalue)\n",
    "        time_taken.append(timepast)\n",
    "\n",
    "    return [nPoints, intvalue, time_taken]"
   ]
  },
  {
   "cell_type": "code",
   "execution_count": null,
   "metadata": {},
   "outputs": [],
   "source": [
    "def plotmeN(C, a, b, intmethod, Nmax = 40, Ndiffs = 10, realvalue = None):\n",
    "    '''\n",
    "    Performs time, convergence, and accuracy test as a function of intervals used\n",
    "    Uses the Newton-Cotes integration method\n",
    "    Plots results in two or three separate figures, depending on if realvalue was specified.\n",
    "\n",
    "    Attributes\n",
    "    ----------\n",
    "    a : float \n",
    "        lower limit of function\n",
    "    b : float\n",
    "        upper limit of function\n",
    "    intmethod : 0, 1, 2\n",
    "        Method of choice for integration, per the NCInt method. \n",
    "    Ndiffs: int\n",
    "        Differences between successive intervals tested. eg. if Nmax = 5 and Ndiffs = 2, then those tested \n",
    "        are N = 1, 3, 5\n",
    "    realvalue: float\n",
    "        The real value of the integral. Used to compare the numerical integration with the analytical one.\n",
    "    '''\n",
    "    import matplotlib.pyplot as plt \n",
    "\n",
    "    RetAn = retanalysisN(C, a, b, Nmax, Ndiffs, intmethod)\n",
    "\n",
    "    plt.figure(0)\n",
    "    plt.title('Value of Integral as a function of sample points per dimension')\n",
    "    plt.plot(RetAn[0], RetAn[1])\n",
    "    plt.show()\n",
    "\n",
    "    if realvalue != None:\n",
    "        plt.figure(1)\n",
    "        plt.title('Percentage Difference from Actual Value vs sample points per dim')\n",
    "        RVlst = [(realvalue - i)*100 / realvalue for i in RetAn[1]]\n",
    "        plt.plot(RetAn[0], RVlst)\n",
    "        plt.show()\n",
    "\n",
    "    plt.figure(2)\n",
    "    plt.title('Timing Test vs sample points per dim')\n",
    "    plt.plot(RetAn[0], RetAn[2])\n",
    "    plt.show()"
   ]
  },
  {
   "cell_type": "code",
   "execution_count": null,
   "metadata": {
    "scrolled": true
   },
   "outputs": [],
   "source": [
    "retanalysisN(F4,[0,0],[10,10], 50, 10, 2)"
   ]
  },
  {
   "cell_type": "code",
   "execution_count": null,
   "metadata": {},
   "outputs": [],
   "source": [
    "plotmeN(F4, [0,0], [10,10], 2, Nmax = 500)"
   ]
  },
  {
   "cell_type": "code",
   "execution_count": null,
   "metadata": {},
   "outputs": [],
   "source": [
    "eval('f4(0,1)')"
   ]
  },
  {
   "cell_type": "markdown",
   "metadata": {},
   "source": [
    "### Adaptive\n",
    "Lost cause"
   ]
  },
  {
   "cell_type": "code",
   "execution_count": null,
   "metadata": {},
   "outputs": [],
   "source": [
    "def retanalysisadaptN(C, a, b, Taumin10to, intmethod):\n",
    "    '''\n",
    "    Performs time, convergence, and accuracy test as a function of intervals used\n",
    "    Uses the Newton-Cotes integration method\n",
    "\n",
    "    Attributes\n",
    "    ----------\n",
    "    a : float \n",
    "        lower limit of function\n",
    "    b : float\n",
    "        upper limit of function\n",
    "    Nmax : int\n",
    "        Number of maximum intervals for the function to calculate\n",
    "    Ndiffs: int\n",
    "        Differences between successive intervals tested. eg. if Nmax = 5 and Ndiffs = 2, then those tested \n",
    "        are N = 1, 3, 5\n",
    "    '''\n",
    "    import time\n",
    "    start_time = time.time()\n",
    "\n",
    "    nPoints = [1000]\n",
    "    intvalue = [C.AdaptIntN(a, b, nPoints[0], intmethod)]\n",
    "    time_taken = [time.time()-start_time]\n",
    "\n",
    "    for i in range(int(3-Taumin10to)):\n",
    "        npoint = 1000/(10**i)\n",
    "\n",
    "        start_time = time.time()\n",
    "        tintvalue = C.AdaptInt(a, b, npoint, intmethod)\n",
    "        timepast = time.time() - start_time\n",
    "\n",
    "        nPoints.append(npoint)\n",
    "        intvalue.append(tintvalue)\n",
    "        time_taken.append(timepast)\n",
    "\n",
    "    return [nPoints, intvalue, time_taken]"
   ]
  },
  {
   "cell_type": "code",
   "execution_count": null,
   "metadata": {},
   "outputs": [],
   "source": [
    "def plotmeadaptN(C, a, b, intmethod, Taumin10to = 500, realvalue = None):\n",
    "    '''\n",
    "    Performs time, convergence, and accuracy test as a function of intervals used\n",
    "    Uses the Newton-Cotes integration method\n",
    "    Plots results in two or three separate figures, depending on if realvalue was specified.\n",
    "\n",
    "    Attributes\n",
    "    ----------\n",
    "    a : float \n",
    "        lower limit of function\n",
    "    b : float\n",
    "        upper limit of function\n",
    "    intmethod : 0, 1, 2\n",
    "        Method of choice for integration, per the NCInt method. \n",
    "    Ndiffs: int\n",
    "        Differences between successive intervals tested. eg. if Nmax = 5 and Ndiffs = 2, then those tested \n",
    "        are N = 1, 3, 5\n",
    "    realvalue: float\n",
    "        The real value of the integral. Used to compare the numerical integration with the analytical one.\n",
    "    '''\n",
    "    import matplotlib.pyplot as plt \n",
    "\n",
    "    RetAn = retanalysisadapt(C, a, b, Taumin10to, intmethod)\n",
    "\n",
    "    plt.figure(0)\n",
    "    plt.title('Value of Integral as a function of sample points based on tolerance')\n",
    "    plt.plot(RetAn[0], RetAn[1])\n",
    "    plt.show()\n",
    "\n",
    "    if realvalue != None:\n",
    "        plt.figure(1)\n",
    "        plt.title('Percentage Difference from Actual Value based on tolerance')\n",
    "        RVlst = [(realvalue - i)*100 / realvalue for i in RetAn[1]]\n",
    "        plt.plot(RetAn[0], RVlst)\n",
    "        plt.show()\n",
    "\n",
    "    plt.figure(2)\n",
    "    plt.title('Timing Test')\n",
    "    plt.plot(RetAn[0], RetAn[2])\n",
    "    plt.show()\n",
    "    #return nPoints"
   ]
  },
  {
   "cell_type": "code",
   "execution_count": null,
   "metadata": {},
   "outputs": [],
   "source": [
    "#F4.AdaptIntN([0,0], [10,10], 1e-5, 2)"
   ]
  },
  {
   "cell_type": "code",
   "execution_count": null,
   "metadata": {},
   "outputs": [],
   "source": [
    "#retanalysisadapt(F4, [0,0], [10,10], -5, 0)"
   ]
  },
  {
   "cell_type": "code",
   "execution_count": null,
   "metadata": {},
   "outputs": [],
   "source": [
    "#plotmeadapt(F4, 0, 10, 0, -5, realvalue= 2500)"
   ]
  },
  {
   "cell_type": "markdown",
   "metadata": {},
   "source": [
    "### MC"
   ]
  },
  {
   "cell_type": "code",
   "execution_count": null,
   "metadata": {},
   "outputs": [],
   "source": [
    "def retanalysismonteN(C, a, b, Nmax = 500, Ndiffs = 10):\n",
    "    '''\n",
    "    Performs time, convergence, and accuracy test as a function of intervals used\n",
    "    Uses the Newton-Cotes integration method\n",
    "\n",
    "    Attributes\n",
    "    ----------\n",
    "    a : float \n",
    "        lower limit of function\n",
    "    b : float\n",
    "        upper limit of function\n",
    "    Nmax : int\n",
    "        Number of maximum intervals for the function to calculate\n",
    "    Ndiffs: int\n",
    "        Differences between successive intervals tested. eg. if Nmax = 5 and Ndiffs = 2, then those tested \n",
    "        are N = 1, 3, 5\n",
    "    '''\n",
    "    import time\n",
    "    start_time = time.time()\n",
    "\n",
    "    nPoints = [2]\n",
    "    intvalue = [C.MonteCarloN(a, b, nPoints[0])]\n",
    "    time_taken = [time.time()-start_time]\n",
    "\n",
    "    for i in range(int(Nmax/Ndiffs)):\n",
    "        npoint = (i+1)*Ndiffs\n",
    "\n",
    "        start_time = time.time()\n",
    "        tintvalue = C.MonteCarloN(a, b, npoint)\n",
    "        timepast = time.time() - start_time\n",
    "\n",
    "        nPoints.append(npoint)\n",
    "        intvalue.append(tintvalue)\n",
    "        time_taken.append(timepast)\n",
    "\n",
    "    return [nPoints, intvalue, time_taken]\n",
    "\n",
    "def plotmemonteN(C, a, b, Nmax = 500, Ndiffs = 10, realvalue = None):\n",
    "    '''\n",
    "    Performs time, convergence, and accuracy test as a function of intervals used\n",
    "    Uses the Newton-Cotes integration method\n",
    "    Plots results in two or three separate figures, depending on if realvalue was specified.\n",
    "\n",
    "    Attributes\n",
    "    ----------\n",
    "    a : float \n",
    "        lower limit of function\n",
    "    b : float\n",
    "        upper limit of function\n",
    "    intmethod : 0, 1, 2\n",
    "        Method of choice for integration, per the NCInt method. \n",
    "    Ndiffs: int\n",
    "        Differences between successive intervals tested. eg. if Nmax = 5 and Ndiffs = 2, then those tested \n",
    "        are N = 1, 3, 5\n",
    "    realvalue: float\n",
    "        The real value of the integral. Used to compare the numerical integration with the analytical one.\n",
    "    '''\n",
    "    import matplotlib.pyplot as plt \n",
    "\n",
    "    RetAn = retanalysismonteN(C, a, b, Nmax, Ndiffs)\n",
    "\n",
    "    plt.figure(0)\n",
    "    plt.title('Value of Integral as a function of sample points')\n",
    "    plt.plot(RetAn[0], RetAn[1])\n",
    "    plt.show()\n",
    "\n",
    "    if realvalue != None:\n",
    "        plt.figure(1)\n",
    "        plt.title('Percentage Difference from Actual Value')\n",
    "        RVlst = [(realvalue - i)*100 / realvalue for i in RetAn[1]]\n",
    "        plt.plot(RetAn[0], RVlst)\n",
    "        plt.show()\n",
    "\n",
    "    plt.figure(2)\n",
    "    plt.title('Timing Test')\n",
    "    plt.plot(RetAn[0], RetAn[2])\n",
    "    plt.show()"
   ]
  },
  {
   "cell_type": "code",
   "execution_count": null,
   "metadata": {},
   "outputs": [],
   "source": [
    "plotmemonteN(F4, [0,0], [10,10], realvalue=50, Nmax = 5000)"
   ]
  },
  {
   "cell_type": "markdown",
   "metadata": {},
   "source": [
    "# Stratified MonteCarlo\n",
    "- Uncertainty is as a function of sampled points\n",
    "- Demonstrate functions that cant be analytically integrated\n",
    "- Demonstrate convergence and perform timing tests"
   ]
  },
  {
   "cell_type": "code",
   "execution_count": 7,
   "metadata": {},
   "outputs": [],
   "source": [
    "def retanalysisstrat(C, a, b, Taumin10to, Ninbins = 1000):\n",
    "    '''\n",
    "    Performs time, convergence, and accuracy test as a function of intervals used\n",
    "    Uses the Newton-Cotes integration method\n",
    "\n",
    "    Attributes\n",
    "    ----------\n",
    "    a : float \n",
    "        lower limit of function\n",
    "    b : float\n",
    "        upper limit of function\n",
    "    Nmax : int\n",
    "        Number of maximum intervals for the function to calculate\n",
    "    Ndiffs: int\n",
    "        Differences between successive intervals tested. eg. if Nmax = 5 and Ndiffs = 2, then those tested \n",
    "        are N = 1, 3, 5\n",
    "    '''\n",
    "    import time\n",
    "    start_time = time.time()\n",
    "    \n",
    "    nPoints = [1000]\n",
    "    intvalue = [C.StratSamp(a, b, Ninbin = Ninbins, MaxVar = nPoints[0])]\n",
    "    J = [C.i]\n",
    "    time_taken = [time.time()-start_time]\n",
    "\n",
    "    for i in range(int(3-Taumin10to)):\n",
    "        npoint = 1000/(10**i)\n",
    "        C.i = 0\n",
    "        start_time = time.time()\n",
    "    \n",
    "        tintvalue = C.StratSamp(a, b, Ninbin = Ninbins, MaxVar = npoint)\n",
    "        timepast = time.time() - start_time\n",
    "        J.append(C.i)\n",
    "        nPoints.append(npoint)\n",
    "        intvalue.append(tintvalue)\n",
    "        time_taken.append(timepast)\n",
    "\n",
    "    return [nPoints, intvalue, time_taken, J]\n",
    "\n",
    "def plotmestrat(C, a, b, Taumin10to = -2, realvalue = None):\n",
    "    '''\n",
    "    Performs time, convergence, and accuracy test as a function of intervals used\n",
    "    Uses the Newton-Cotes integration method\n",
    "    Plots results in two or three separate figures, depending on if realvalue was specified.\n",
    "\n",
    "    Attributes\n",
    "    ----------\n",
    "    a : float \n",
    "        lower limit of function\n",
    "    b : float\n",
    "        upper limit of function\n",
    "    intmethod : 0, 1, 2\n",
    "        Method of choice for integration, per the NCInt method. \n",
    "    Ndiffs: int\n",
    "        Differences between successive intervals tested. eg. if Nmax = 5 and Ndiffs = 2, then those tested \n",
    "        are N = 1, 3, 5\n",
    "    realvalue: float\n",
    "        The real value of the integral. Used to compare the numerical integration with the analytical one.\n",
    "    '''\n",
    "    import matplotlib.pyplot as plt \n",
    "\n",
    "    RetAn = retanalysisstrat(C, a, b, Taumin10to)\n",
    "\n",
    "    plt.figure(0)\n",
    "    plt.title('Value of Integral as a function of sample points based on tolerance')\n",
    "    plt.plot(RetAn[0], RetAn[1])\n",
    "    plt.show()\n",
    "\n",
    "    if realvalue != None:\n",
    "        plt.figure(1)\n",
    "        plt.title('Percentage Difference from Actual Value based on tolerance')\n",
    "        RVlst = [(realvalue - i)*100 / realvalue for i in RetAn[1]]\n",
    "        plt.plot(RetAn[0], RVlst)\n",
    "        plt.show()\n",
    "\n",
    "    plt.figure(2)\n",
    "    plt.title('Timing Test')\n",
    "    plt.plot(RetAn[3], RetAn[2])\n",
    "    plt.show()\n",
    "    #return nPoints\n",
    "    plt.figure(3)\n",
    "    plt.title('calls vs percentagediff')\n",
    "    plt.plot(RetAn[3], RVlst)"
   ]
  },
  {
   "cell_type": "code",
   "execution_count": 9,
   "metadata": {},
   "outputs": [],
   "source": [
    "#plotmestrat(F3, 0, 10, realvalue = 2500)"
   ]
  },
  {
   "cell_type": "code",
   "execution_count": 21,
   "metadata": {},
   "outputs": [
    {
     "data": {
      "text/plain": [
       "13296"
      ]
     },
     "execution_count": 21,
     "metadata": {},
     "output_type": "execute_result"
    }
   ],
   "source": [
    "F3.i = 0\n",
    "F3.StratSamp(0, 10, Nbin = 4, Ninbin = 1000, Nintcheck = 10, MaxVar = 1e-3)\n",
    "F3.i"
   ]
  },
  {
   "cell_type": "markdown",
   "metadata": {},
   "source": [
    "# Gaussian"
   ]
  },
  {
   "cell_type": "code",
   "execution_count": null,
   "metadata": {},
   "outputs": [],
   "source": [
    "plotmeval(G, -100, 100, 0, realvalue=1.7724538509, Nmax = 5000)\n",
    "plotme(G, -100, 100, 0, realvalue=1.7724538509)"
   ]
  },
  {
   "cell_type": "code",
   "execution_count": null,
   "metadata": {},
   "outputs": [],
   "source": [
    "plotmeval(G, -100, 100, 1, realvalue=1.7724538509, Nmax = 5000)\n",
    "plotme(-100, 100, 1, realvalue=1.7724538509)"
   ]
  },
  {
   "cell_type": "code",
   "execution_count": null,
   "metadata": {},
   "outputs": [],
   "source": [
    "plotmeval(G, -100, 100, 2, realvalue=1.7724538509, Nmax = 5000)\n",
    "plotme(G, -100, 100, 2, realvalue=1.7724538509)"
   ]
  },
  {
   "cell_type": "code",
   "execution_count": null,
   "metadata": {},
   "outputs": [],
   "source": [
    "plotmeadapt(G, -100, 100, 0, -5, realvalue= 1.7724538509)"
   ]
  },
  {
   "cell_type": "code",
   "execution_count": null,
   "metadata": {},
   "outputs": [],
   "source": [
    "G.AdaptInt(-10, 10, 1e-20, 2)"
   ]
  },
  {
   "cell_type": "code",
   "execution_count": null,
   "metadata": {},
   "outputs": [],
   "source": [
    "plotmemonte(G, -100, 100, realvalue=1.7724538509, Nmax = 5000)"
   ]
  },
  {
   "cell_type": "markdown",
   "metadata": {},
   "source": [
    "# Hypersphere"
   ]
  },
  {
   "cell_type": "code",
   "execution_count": null,
   "metadata": {},
   "outputs": [],
   "source": [
    "plotmemonteN(SPh, [-1, -1, -1, -1], [1, 1, 1, 1], realvalue=4.9348022005, Nmax = 1500) "
   ]
  },
  {
   "cell_type": "code",
   "execution_count": null,
   "metadata": {},
   "outputs": [],
   "source": [
    "plotmeN(SPh, [-1, -1, -1, -1], [1, 1, 1, 1], 2, realvalue=4.9348022005)"
   ]
  },
  {
   "cell_type": "code",
   "execution_count": null,
   "metadata": {},
   "outputs": [],
   "source": [
    "SPh.NCIntN(A=[-1, -1, -1, -1], B=[1, 1, 1, 1],N = [30, 30, 30, 30], kind=2)"
   ]
  },
  {
   "cell_type": "code",
   "execution_count": null,
   "metadata": {},
   "outputs": [],
   "source": []
  }
 ],
 "metadata": {
  "kernelspec": {
   "display_name": "Python 3",
   "language": "python",
   "name": "python3"
  },
  "language_info": {
   "codemirror_mode": {
    "name": "ipython",
    "version": 3
   },
   "file_extension": ".py",
   "mimetype": "text/x-python",
   "name": "python",
   "nbconvert_exporter": "python",
   "pygments_lexer": "ipython3",
   "version": "3.6.8"
  }
 },
 "nbformat": 4,
 "nbformat_minor": 2
}
